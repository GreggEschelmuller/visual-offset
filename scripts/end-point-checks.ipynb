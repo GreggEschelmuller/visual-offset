{
 "cells": [
  {
   "cell_type": "code",
   "execution_count": 9,
   "metadata": {},
   "outputs": [
    {
     "data": {
      "text/html": [
       "<div>\n",
       "<style scoped>\n",
       "    .dataframe tbody tr th:only-of-type {\n",
       "        vertical-align: middle;\n",
       "    }\n",
       "\n",
       "    .dataframe tbody tr th {\n",
       "        vertical-align: top;\n",
       "    }\n",
       "\n",
       "    .dataframe thead th {\n",
       "        text-align: right;\n",
       "    }\n",
       "</style>\n",
       "<table border=\"1\" class=\"dataframe\">\n",
       "  <thead>\n",
       "    <tr style=\"text-align: right;\">\n",
       "      <th></th>\n",
       "      <th>elbow_pos_pix</th>\n",
       "      <th>elbow_pos_deg</th>\n",
       "      <th>pot_volts</th>\n",
       "      <th>time</th>\n",
       "    </tr>\n",
       "  </thead>\n",
       "  <tbody>\n",
       "    <tr>\n",
       "      <th>0</th>\n",
       "      <td>-1638.150254</td>\n",
       "      <td>66.417513</td>\n",
       "      <td>4.742910</td>\n",
       "      <td>0.001608</td>\n",
       "    </tr>\n",
       "    <tr>\n",
       "      <th>1</th>\n",
       "      <td>-1636.148585</td>\n",
       "      <td>66.498317</td>\n",
       "      <td>4.741621</td>\n",
       "      <td>0.005375</td>\n",
       "    </tr>\n",
       "    <tr>\n",
       "      <th>2</th>\n",
       "      <td>-1632.236233</td>\n",
       "      <td>66.659926</td>\n",
       "      <td>4.739043</td>\n",
       "      <td>0.006443</td>\n",
       "    </tr>\n",
       "    <tr>\n",
       "      <th>3</th>\n",
       "      <td>-1625.912780</td>\n",
       "      <td>66.902339</td>\n",
       "      <td>4.735176</td>\n",
       "      <td>0.008470</td>\n",
       "    </tr>\n",
       "    <tr>\n",
       "      <th>4</th>\n",
       "      <td>-1620.567415</td>\n",
       "      <td>67.023545</td>\n",
       "      <td>4.733243</td>\n",
       "      <td>0.010458</td>\n",
       "    </tr>\n",
       "  </tbody>\n",
       "</table>\n",
       "</div>"
      ],
      "text/plain": [
       "   elbow_pos_pix  elbow_pos_deg  pot_volts      time\n",
       "0   -1638.150254      66.417513   4.742910  0.001608\n",
       "1   -1636.148585      66.498317   4.741621  0.005375\n",
       "2   -1632.236233      66.659926   4.739043  0.006443\n",
       "3   -1625.912780      66.902339   4.735176  0.008470\n",
       "4   -1620.567415      67.023545   4.733243  0.010458"
      ]
     },
     "execution_count": 9,
     "metadata": {},
     "output_type": "execute_result"
    }
   ],
   "source": [
    "import pandas as pd\n",
    "import matplotlib.pyplot as plt\n",
    "import numpy as np\n",
    "from scipy.signal import butter, filtfilt\n",
    "fs=500\n",
    "file_path = \"../data/p1/p1_position_1_main.csv\"\n",
    "\n",
    "trial = pd.read_csv(file_path)\n",
    "trial.head(5)"
   ]
  },
  {
   "cell_type": "code",
   "execution_count": 12,
   "metadata": {},
   "outputs": [],
   "source": [
    "def butter_lowpass_filter(data, cutoff, fs, order=4):\n",
    "    nyq = 0.5 * fs\n",
    "    normal_cutoff = cutoff / nyq\n",
    "    b, a = butter(order, normal_cutoff, btype='low', analog=False)\n",
    "    y = filtfilt(b, a, data)\n",
    "    return y"
   ]
  },
  {
   "cell_type": "code",
   "execution_count": 15,
   "metadata": {},
   "outputs": [],
   "source": [
    "end_velocities = []\n",
    "\n",
    "for i in range(1, 241):\n",
    "    file_path = f\"../data/p1/p1_position_{i}_main.csv\"\n",
    "    trial = pd.read_csv(file_path)\n",
    "    filtered_angle = butter_lowpass_filter(trial['elbow_pos_deg'], 5, fs)\n",
    "    velocity = np.concatenate(([0], np.diff(filtered_angle))) * fs  \n",
    "    end_velocities.append(velocity[-1])"
   ]
  },
  {
   "cell_type": "code",
   "execution_count": 17,
   "metadata": {},
   "outputs": [
    {
     "name": "stdout",
     "output_type": "stream",
     "text": [
      "Mean End Velocity: 0.30435391687525143\n",
      "STD End Velocity: 0.09082114744379279\n"
     ]
    },
    {
     "data": {
      "text/plain": [
       "(array([ 2.,  0.,  2.,  1.,  1.,  3.,  4.,  3.,  9.,  8.,  8., 10., 11.,\n",
       "         7.,  5.,  8., 12.,  8., 18.,  6.,  9.,  8.,  5.,  7.,  5.,  7.,\n",
       "        12., 11.,  8.,  2.,  4.,  3.,  2.,  3.,  3.,  3.,  7.,  0.,  2.,\n",
       "         1.,  5.,  2.,  1.,  0.,  2.,  0.,  1.,  0.,  0.,  1.]),\n",
       " array([0.11386441, 0.12307321, 0.13228202, 0.14149083, 0.15069963,\n",
       "        0.15990844, 0.16911725, 0.17832605, 0.18753486, 0.19674367,\n",
       "        0.20595247, 0.21516128, 0.22437008, 0.23357889, 0.2427877 ,\n",
       "        0.2519965 , 0.26120531, 0.27041412, 0.27962292, 0.28883173,\n",
       "        0.29804053, 0.30724934, 0.31645815, 0.32566695, 0.33487576,\n",
       "        0.34408457, 0.35329337, 0.36250218, 0.37171098, 0.38091979,\n",
       "        0.3901286 , 0.3993374 , 0.40854621, 0.41775502, 0.42696382,\n",
       "        0.43617263, 0.44538143, 0.45459024, 0.46379905, 0.47300785,\n",
       "        0.48221666, 0.49142547, 0.50063427, 0.50984308, 0.51905188,\n",
       "        0.52826069, 0.5374695 , 0.5466783 , 0.55588711, 0.56509592,\n",
       "        0.57430472]),\n",
       " <BarContainer object of 50 artists>)"
      ]
     },
     "execution_count": 17,
     "metadata": {},
     "output_type": "execute_result"
    },
    {
     "data": {
      "image/png": "[encoded data removed]",
      "text/plain": [
       "<Figure size 640x480 with 1 Axes>"
      ]
     },
     "metadata": {},
     "output_type": "display_data"
    }
   ],
   "source": [
    "print(f\"Mean End Velocity: {np.mean(end_velocities)}\")\n",
    "print(f\"STD End Velocity: {np.std(end_velocities)}\")\n",
    "\n",
    "fig, ax = plt.subplots()\n",
    "ax.hist(end_velocities, bins=50)"
   ]
  }
 ],
 "metadata": {
  "kernelspec": {
   "display_name": "data-science",
   "language": "python",
   "name": "python3"
  },
  "language_info": {
   "codemirror_mode": {
    "name": "ipython",
    "version": 3
   },
   "file_extension": ".py",
   "mimetype": "text/x-python",
   "name": "python",
   "nbconvert_exporter": "python",
   "pygments_lexer": "ipython3",
   "version": "3.11.5"
  }
 },
 "nbformat": 4,
 "nbformat_minor": 2
}
